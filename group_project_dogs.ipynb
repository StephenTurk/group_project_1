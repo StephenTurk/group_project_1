{
 "cells": [
  {
   "cell_type": "code",
   "execution_count": 2,
   "metadata": {},
   "outputs": [],
   "source": [
    "import pandas as pd"
   ]
  },
  {
   "cell_type": "code",
   "execution_count": 3,
   "metadata": {},
   "outputs": [],
   "source": [
    "import numpy as np"
   ]
  },
  {
   "cell_type": "code",
   "execution_count": 4,
   "metadata": {},
   "outputs": [],
   "source": [
    "import matplotlib.pyplot as plt"
   ]
  },
  {
   "cell_type": "code",
   "execution_count": 5,
   "metadata": {},
   "outputs": [],
   "source": [
    "df = pd.read_csv('dog_intelligence.csv')"
   ]
  },
  {
   "cell_type": "code",
   "execution_count": 6,
   "metadata": {
    "scrolled": true
   },
   "outputs": [
    {
     "data": {
      "text/html": [
       "<div>\n",
       "<style scoped>\n",
       "    .dataframe tbody tr th:only-of-type {\n",
       "        vertical-align: middle;\n",
       "    }\n",
       "\n",
       "    .dataframe tbody tr th {\n",
       "        vertical-align: top;\n",
       "    }\n",
       "\n",
       "    .dataframe thead th {\n",
       "        text-align: right;\n",
       "    }\n",
       "</style>\n",
       "<table border=\"1\" class=\"dataframe\">\n",
       "  <thead>\n",
       "    <tr style=\"text-align: right;\">\n",
       "      <th></th>\n",
       "      <th>Breed</th>\n",
       "      <th>Classification</th>\n",
       "      <th>obey</th>\n",
       "      <th>reps_lower</th>\n",
       "      <th>reps_upper</th>\n",
       "    </tr>\n",
       "  </thead>\n",
       "  <tbody>\n",
       "    <tr>\n",
       "      <td>116</td>\n",
       "      <td>Lakeland Terrier</td>\n",
       "      <td>Fair Working/Obedience Intelligence</td>\n",
       "      <td>30%</td>\n",
       "      <td>41</td>\n",
       "      <td>80</td>\n",
       "    </tr>\n",
       "    <tr>\n",
       "      <td>117</td>\n",
       "      <td>Old English Sheepdog</td>\n",
       "      <td>Fair Working/Obedience Intelligence</td>\n",
       "      <td>30%</td>\n",
       "      <td>41</td>\n",
       "      <td>80</td>\n",
       "    </tr>\n",
       "    <tr>\n",
       "      <td>118</td>\n",
       "      <td>Great Pyrenees</td>\n",
       "      <td>Fair Working/Obedience Intelligence</td>\n",
       "      <td>30%</td>\n",
       "      <td>41</td>\n",
       "      <td>80</td>\n",
       "    </tr>\n",
       "    <tr>\n",
       "      <td>119</td>\n",
       "      <td>Scottish Terrier</td>\n",
       "      <td>Fair Working/Obedience Intelligence</td>\n",
       "      <td>30%</td>\n",
       "      <td>41</td>\n",
       "      <td>80</td>\n",
       "    </tr>\n",
       "    <tr>\n",
       "      <td>120</td>\n",
       "      <td>Saint Bernard</td>\n",
       "      <td>Fair Working/Obedience Intelligence</td>\n",
       "      <td>30%</td>\n",
       "      <td>41</td>\n",
       "      <td>80</td>\n",
       "    </tr>\n",
       "    <tr>\n",
       "      <td>121</td>\n",
       "      <td>Bull Terrier</td>\n",
       "      <td>Fair Working/Obedience Intelligence</td>\n",
       "      <td>30%</td>\n",
       "      <td>41</td>\n",
       "      <td>80</td>\n",
       "    </tr>\n",
       "    <tr>\n",
       "      <td>122</td>\n",
       "      <td>Chihuahua</td>\n",
       "      <td>Fair Working/Obedience Intelligence</td>\n",
       "      <td>30%</td>\n",
       "      <td>41</td>\n",
       "      <td>80</td>\n",
       "    </tr>\n",
       "    <tr>\n",
       "      <td>123</td>\n",
       "      <td>Lhasa Apso</td>\n",
       "      <td>Fair Working/Obedience Intelligence</td>\n",
       "      <td>30%</td>\n",
       "      <td>41</td>\n",
       "      <td>80</td>\n",
       "    </tr>\n",
       "    <tr>\n",
       "      <td>124</td>\n",
       "      <td>Bullmastiff</td>\n",
       "      <td>Fair Working/Obedience Intelligence</td>\n",
       "      <td>30%</td>\n",
       "      <td>41</td>\n",
       "      <td>80</td>\n",
       "    </tr>\n",
       "    <tr>\n",
       "      <td>125</td>\n",
       "      <td>Shih Tzu</td>\n",
       "      <td>Lowest Degree of Working/Obedience Intelligence</td>\n",
       "      <td>NaN</td>\n",
       "      <td>81</td>\n",
       "      <td>100</td>\n",
       "    </tr>\n",
       "    <tr>\n",
       "      <td>126</td>\n",
       "      <td>Basset Hound</td>\n",
       "      <td>Lowest Degree of Working/Obedience Intelligence</td>\n",
       "      <td>NaN</td>\n",
       "      <td>81</td>\n",
       "      <td>100</td>\n",
       "    </tr>\n",
       "    <tr>\n",
       "      <td>127</td>\n",
       "      <td>Mastiff</td>\n",
       "      <td>Lowest Degree of Working/Obedience Intelligence</td>\n",
       "      <td>NaN</td>\n",
       "      <td>81</td>\n",
       "      <td>100</td>\n",
       "    </tr>\n",
       "    <tr>\n",
       "      <td>128</td>\n",
       "      <td>Beagle</td>\n",
       "      <td>Lowest Degree of Working/Obedience Intelligence</td>\n",
       "      <td>NaN</td>\n",
       "      <td>81</td>\n",
       "      <td>100</td>\n",
       "    </tr>\n",
       "    <tr>\n",
       "      <td>129</td>\n",
       "      <td>Pekingese</td>\n",
       "      <td>Lowest Degree of Working/Obedience Intelligence</td>\n",
       "      <td>NaN</td>\n",
       "      <td>81</td>\n",
       "      <td>100</td>\n",
       "    </tr>\n",
       "    <tr>\n",
       "      <td>130</td>\n",
       "      <td>Bloodhound</td>\n",
       "      <td>Lowest Degree of Working/Obedience Intelligence</td>\n",
       "      <td>NaN</td>\n",
       "      <td>81</td>\n",
       "      <td>100</td>\n",
       "    </tr>\n",
       "    <tr>\n",
       "      <td>131</td>\n",
       "      <td>Borzoi</td>\n",
       "      <td>Lowest Degree of Working/Obedience Intelligence</td>\n",
       "      <td>NaN</td>\n",
       "      <td>81</td>\n",
       "      <td>100</td>\n",
       "    </tr>\n",
       "    <tr>\n",
       "      <td>132</td>\n",
       "      <td>Chow Chow</td>\n",
       "      <td>Lowest Degree of Working/Obedience Intelligence</td>\n",
       "      <td>NaN</td>\n",
       "      <td>81</td>\n",
       "      <td>100</td>\n",
       "    </tr>\n",
       "    <tr>\n",
       "      <td>133</td>\n",
       "      <td>Bulldog</td>\n",
       "      <td>Lowest Degree of Working/Obedience Intelligence</td>\n",
       "      <td>NaN</td>\n",
       "      <td>81</td>\n",
       "      <td>100</td>\n",
       "    </tr>\n",
       "    <tr>\n",
       "      <td>134</td>\n",
       "      <td>Basenji</td>\n",
       "      <td>Lowest Degree of Working/Obedience Intelligence</td>\n",
       "      <td>NaN</td>\n",
       "      <td>81</td>\n",
       "      <td>100</td>\n",
       "    </tr>\n",
       "    <tr>\n",
       "      <td>135</td>\n",
       "      <td>Afghan Hound</td>\n",
       "      <td>Lowest Degree of Working/Obedience Intelligence</td>\n",
       "      <td>NaN</td>\n",
       "      <td>81</td>\n",
       "      <td>100</td>\n",
       "    </tr>\n",
       "  </tbody>\n",
       "</table>\n",
       "</div>"
      ],
      "text/plain": [
       "                    Breed                                    Classification  \\\n",
       "116      Lakeland Terrier               Fair Working/Obedience Intelligence   \n",
       "117  Old English Sheepdog               Fair Working/Obedience Intelligence   \n",
       "118        Great Pyrenees               Fair Working/Obedience Intelligence   \n",
       "119      Scottish Terrier               Fair Working/Obedience Intelligence   \n",
       "120         Saint Bernard               Fair Working/Obedience Intelligence   \n",
       "121          Bull Terrier               Fair Working/Obedience Intelligence   \n",
       "122             Chihuahua               Fair Working/Obedience Intelligence   \n",
       "123            Lhasa Apso               Fair Working/Obedience Intelligence   \n",
       "124           Bullmastiff               Fair Working/Obedience Intelligence   \n",
       "125              Shih Tzu  Lowest Degree of Working/Obedience Intelligence    \n",
       "126          Basset Hound  Lowest Degree of Working/Obedience Intelligence    \n",
       "127               Mastiff  Lowest Degree of Working/Obedience Intelligence    \n",
       "128                Beagle  Lowest Degree of Working/Obedience Intelligence    \n",
       "129             Pekingese  Lowest Degree of Working/Obedience Intelligence    \n",
       "130            Bloodhound  Lowest Degree of Working/Obedience Intelligence    \n",
       "131                Borzoi  Lowest Degree of Working/Obedience Intelligence    \n",
       "132             Chow Chow  Lowest Degree of Working/Obedience Intelligence    \n",
       "133               Bulldog  Lowest Degree of Working/Obedience Intelligence    \n",
       "134               Basenji  Lowest Degree of Working/Obedience Intelligence    \n",
       "135          Afghan Hound  Lowest Degree of Working/Obedience Intelligence    \n",
       "\n",
       "    obey  reps_lower  reps_upper  \n",
       "116  30%          41          80  \n",
       "117  30%          41          80  \n",
       "118  30%          41          80  \n",
       "119  30%          41          80  \n",
       "120  30%          41          80  \n",
       "121  30%          41          80  \n",
       "122  30%          41          80  \n",
       "123  30%          41          80  \n",
       "124  30%          41          80  \n",
       "125  NaN          81         100  \n",
       "126  NaN          81         100  \n",
       "127  NaN          81         100  \n",
       "128  NaN          81         100  \n",
       "129  NaN          81         100  \n",
       "130  NaN          81         100  \n",
       "131  NaN          81         100  \n",
       "132  NaN          81         100  \n",
       "133  NaN          81         100  \n",
       "134  NaN          81         100  \n",
       "135  NaN          81         100  "
      ]
     },
     "execution_count": 6,
     "metadata": {},
     "output_type": "execute_result"
    }
   ],
   "source": [
    "df.tail(20)"
   ]
  },
  {
   "cell_type": "code",
   "execution_count": null,
   "metadata": {},
   "outputs": [],
   "source": [
    "df_startswith(x , y):\n",
    "    \n",
    "    for i in x:\n",
    "        if i.startswith(y)\n",
    "        \n",
    "        \n"
   ]
  },
  {
   "cell_type": "code",
   "execution_count": 14,
   "metadata": {},
   "outputs": [
    {
     "ename": "TypeError",
     "evalue": "Cannot index by location index with a non-integer key",
     "output_type": "error",
     "traceback": [
      "\u001b[0;31m---------------------------------------------------------------------------\u001b[0m",
      "\u001b[0;31mTypeError\u001b[0m                                 Traceback (most recent call last)",
      "\u001b[0;32m<ipython-input-14-1fa8d321e92c>\u001b[0m in \u001b[0;36m<module>\u001b[0;34m\u001b[0m\n\u001b[0;32m----> 1\u001b[0;31m \u001b[0mdf\u001b[0m\u001b[0;34m.\u001b[0m\u001b[0miloc\u001b[0m\u001b[0;34m[\u001b[0m\u001b[0;34m'Breed'\u001b[0m\u001b[0;34m]\u001b[0m\u001b[0;34m\u001b[0m\u001b[0;34m\u001b[0m\u001b[0m\n\u001b[0m",
      "\u001b[0;32m/opt/anaconda3/envs/learn-env/lib/python3.6/site-packages/pandas/core/indexing.py\u001b[0m in \u001b[0;36m__getitem__\u001b[0;34m(self, key)\u001b[0m\n\u001b[1;32m   1422\u001b[0m \u001b[0;34m\u001b[0m\u001b[0m\n\u001b[1;32m   1423\u001b[0m             \u001b[0mmaybe_callable\u001b[0m \u001b[0;34m=\u001b[0m \u001b[0mcom\u001b[0m\u001b[0;34m.\u001b[0m\u001b[0mapply_if_callable\u001b[0m\u001b[0;34m(\u001b[0m\u001b[0mkey\u001b[0m\u001b[0;34m,\u001b[0m \u001b[0mself\u001b[0m\u001b[0;34m.\u001b[0m\u001b[0mobj\u001b[0m\u001b[0;34m)\u001b[0m\u001b[0;34m\u001b[0m\u001b[0;34m\u001b[0m\u001b[0m\n\u001b[0;32m-> 1424\u001b[0;31m             \u001b[0;32mreturn\u001b[0m \u001b[0mself\u001b[0m\u001b[0;34m.\u001b[0m\u001b[0m_getitem_axis\u001b[0m\u001b[0;34m(\u001b[0m\u001b[0mmaybe_callable\u001b[0m\u001b[0;34m,\u001b[0m \u001b[0maxis\u001b[0m\u001b[0;34m=\u001b[0m\u001b[0maxis\u001b[0m\u001b[0;34m)\u001b[0m\u001b[0;34m\u001b[0m\u001b[0;34m\u001b[0m\u001b[0m\n\u001b[0m\u001b[1;32m   1425\u001b[0m \u001b[0;34m\u001b[0m\u001b[0m\n\u001b[1;32m   1426\u001b[0m     \u001b[0;32mdef\u001b[0m \u001b[0m_is_scalar_access\u001b[0m\u001b[0;34m(\u001b[0m\u001b[0mself\u001b[0m\u001b[0;34m,\u001b[0m \u001b[0mkey\u001b[0m\u001b[0;34m:\u001b[0m \u001b[0mTuple\u001b[0m\u001b[0;34m)\u001b[0m\u001b[0;34m:\u001b[0m\u001b[0;34m\u001b[0m\u001b[0;34m\u001b[0m\u001b[0m\n",
      "\u001b[0;32m/opt/anaconda3/envs/learn-env/lib/python3.6/site-packages/pandas/core/indexing.py\u001b[0m in \u001b[0;36m_getitem_axis\u001b[0;34m(self, key, axis)\u001b[0m\n\u001b[1;32m   2152\u001b[0m             \u001b[0mkey\u001b[0m \u001b[0;34m=\u001b[0m \u001b[0mitem_from_zerodim\u001b[0m\u001b[0;34m(\u001b[0m\u001b[0mkey\u001b[0m\u001b[0;34m)\u001b[0m\u001b[0;34m\u001b[0m\u001b[0;34m\u001b[0m\u001b[0m\n\u001b[1;32m   2153\u001b[0m             \u001b[0;32mif\u001b[0m \u001b[0;32mnot\u001b[0m \u001b[0mis_integer\u001b[0m\u001b[0;34m(\u001b[0m\u001b[0mkey\u001b[0m\u001b[0;34m)\u001b[0m\u001b[0;34m:\u001b[0m\u001b[0;34m\u001b[0m\u001b[0;34m\u001b[0m\u001b[0m\n\u001b[0;32m-> 2154\u001b[0;31m                 \u001b[0;32mraise\u001b[0m \u001b[0mTypeError\u001b[0m\u001b[0;34m(\u001b[0m\u001b[0;34m\"Cannot index by location index with a non-integer key\"\u001b[0m\u001b[0;34m)\u001b[0m\u001b[0;34m\u001b[0m\u001b[0;34m\u001b[0m\u001b[0m\n\u001b[0m\u001b[1;32m   2155\u001b[0m \u001b[0;34m\u001b[0m\u001b[0m\n\u001b[1;32m   2156\u001b[0m             \u001b[0;31m# validate the location\u001b[0m\u001b[0;34m\u001b[0m\u001b[0;34m\u001b[0m\u001b[0;34m\u001b[0m\u001b[0m\n",
      "\u001b[0;31mTypeError\u001b[0m: Cannot index by location index with a non-integer key"
     ]
    }
   ],
   "source": [
    "df.iloc['Breed']"
   ]
  },
  {
   "cell_type": "code",
   "execution_count": 9,
   "metadata": {},
   "outputs": [
    {
     "data": {
      "text/plain": [
       "['Poodle',\n",
       " 'Papillon',\n",
       " 'Pembroke Welsh Corgi',\n",
       " 'Pomeranian',\n",
       " 'Puli',\n",
       " 'Portuguese Water Dog',\n",
       " 'Pharaoh Hound',\n",
       " 'Pointer',\n",
       " 'Pug',\n",
       " 'Petit Basset Griffon Vend̩en',\n",
       " 'Pekingese']"
      ]
     },
     "execution_count": 9,
     "metadata": {},
     "output_type": "execute_result"
    }
   ],
   "source": [
    "df_startswith"
   ]
  },
  {
   "cell_type": "code",
   "execution_count": 8,
   "metadata": {},
   "outputs": [
    {
     "data": {
      "text/plain": [
       "0          Border Collie\n",
       "1                 Poodle\n",
       "2        German Shepherd\n",
       "3       Golden Retriever\n",
       "4      Doberman Pinscher\n",
       "             ...        \n",
       "131               Borzoi\n",
       "132            Chow Chow\n",
       "133              Bulldog\n",
       "134              Basenji\n",
       "135         Afghan Hound\n",
       "Name: Breed, Length: 136, dtype: object"
      ]
     },
     "execution_count": 8,
     "metadata": {},
     "output_type": "execute_result"
    }
   ],
   "source": [
    "df['Breed']"
   ]
  },
  {
   "cell_type": "code",
   "execution_count": null,
   "metadata": {},
   "outputs": [],
   "source": []
  }
 ],
 "metadata": {
  "kernelspec": {
   "display_name": "Python [conda env:learn-env] *",
   "language": "python",
   "name": "conda-env-learn-env-py"
  },
  "language_info": {
   "codemirror_mode": {
    "name": "ipython",
    "version": 3
   },
   "file_extension": ".py",
   "mimetype": "text/x-python",
   "name": "python",
   "nbconvert_exporter": "python",
   "pygments_lexer": "ipython3",
   "version": "3.6.9"
  }
 },
 "nbformat": 4,
 "nbformat_minor": 2
}
